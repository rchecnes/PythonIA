{
  "nbformat": 4,
  "nbformat_minor": 0,
  "metadata": {
    "colab": {
      "name": "Untitled2.ipynb",
      "provenance": [],
      "collapsed_sections": [],
      "authorship_tag": "ABX9TyMu/+psCot2ZRv11Fnmq0Mn",
      "include_colab_link": true
    },
    "kernelspec": {
      "name": "python3",
      "display_name": "Python 3"
    },
    "language_info": {
      "name": "python"
    }
  },
  "cells": [
    {
      "cell_type": "markdown",
      "metadata": {
        "id": "view-in-github",
        "colab_type": "text"
      },
      "source": [
        "<a href=\"https://colab.research.google.com/github/rchecnes/PythonIA/blob/main/Reconocimiento%20de%20emociones.ipynb\" target=\"_parent\"><img src=\"https://colab.research.google.com/assets/colab-badge.svg\" alt=\"Open In Colab\"/></a>"
      ]
    },
    {
      "cell_type": "code",
      "metadata": {
        "id": "MtF4PXMCh1WZ"
      },
      "source": [
        "# Instalación de librerías \n",
        "!pip install keras==2.4.3\n",
        "!pip install tensorflow==2.4.1"
      ],
      "execution_count": null,
      "outputs": []
    },
    {
      "cell_type": "code",
      "metadata": {
        "colab": {
          "base_uri": "https://localhost:8080/"
        },
        "id": "yIOg_y0sigM6",
        "outputId": "db0ca0d0-8316-440a-a59a-61c63641f918"
      },
      "source": [
        "!git clone https://github.com/DavidReveloLuna/Face_Emotion.git"
      ],
      "execution_count": 2,
      "outputs": [
        {
          "output_type": "stream",
          "name": "stdout",
          "text": [
            "Cloning into 'Face_Emotion'...\n",
            "remote: Enumerating objects: 72, done.\u001b[K\n",
            "remote: Counting objects: 100% (72/72), done.\u001b[K\n",
            "remote: Compressing objects: 100% (59/59), done.\u001b[K\n",
            "remote: Total 72 (delta 29), reused 37 (delta 6), pack-reused 0\u001b[K\n",
            "Unpacking objects: 100% (72/72), done.\n"
          ]
        }
      ]
    },
    {
      "cell_type": "code",
      "metadata": {
        "id": "EejTs6CoiqWh"
      },
      "source": [
        "# Descomprimimos el dataset en la carpeta content\n",
        "!unrar x -Y \"/content/Face_Emotion/images.rar\" \"/content/\""
      ],
      "execution_count": null,
      "outputs": []
    },
    {
      "cell_type": "code",
      "metadata": {
        "id": "J70VIHtai1oR"
      },
      "source": [
        "# Definimos las rutas del dataset \n",
        "train_data_dir = '/content/images/train'\n",
        "val_data_dir = '/content/images/validation'"
      ],
      "execution_count": null,
      "outputs": []
    }
  ]
}